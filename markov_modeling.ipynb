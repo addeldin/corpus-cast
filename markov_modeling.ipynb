{
 "cells": [
  {
   "cell_type": "markdown",
   "id": "ac190cca",
   "metadata": {},
   "source": [
    "# Info\n",
    "This notebook works pretty differently from txt_from_web.ipynb. The other notebook is meant to get a bunch of text files for you to analyze. In theory, you would go through it, get what you want, and go back to it as-needed for more text. \n",
    "\n",
    "By contrast, `markov_modeling.ipynb` is more interactive, and you're intended to fill certain blocks with your own code to make use of the main object: marky the Markov Model Manager! The functions you can make use of are described in the code blocks, but I'll also have a block with examples of the functions being used, and how you might make use of a Markov Model Manager object.\n",
    "\n",
    "The main idea is that marky will take the folder you set in section 0 as `root`, create any missing folders, and allow you to handle file management and markov model building all in one place! You can:\n",
    "\n",
    "* import text files and turn them into markov models\n",
    "* import markov models from json files\n",
    "* create new models and then export them as json files\n",
    "* combine models and export the result as a json file\n",
    "* create formatted sentence outputs for any model so you can test models and fiddle with settings\n",
    "\n",
    "(Note: the reason jsons are used here is because you can convert a markovify model to json, save the json, and convert the json back later. Making a model from json is way faster than remaking the model from a string. Get more info on markovify here: https://github.com/jsvine/markovify)\n",
    "\n",
    "There is another model managing object, nern the Stage Manager, for managing text files representing scripts. Right now, nern is separate from marky so that if you do have scripts you can use nern exclusively (it has all the same functionality as marky), but otherwise you can just use marky.\n",
    "\n",
    "---\n",
    "Note that nern requires scripts in the texts/scripts folder to be formatted a certain way. Each line should be a line of dialogue, formatted as:\n",
    "\n",
    "`Character: Dialogue.`\n",
    "\n",
    "You can then use nern-specific functions to make strings/markovify models based on certain characters, groups of characters, or of the script without any character tags. Basically, nern leverages the formatting of a script to let you do a little more detailed model-generation based on characters."
   ]
  },
  {
   "cell_type": "markdown",
   "id": "ce1471e4",
   "metadata": {},
   "source": [
    "# File Manager\n",
    "Define and manage file/folder structure for importing and exporting text and json files. You'll want to set this up at the start and avoid making changes once you've built your marky and/or nern model."
   ]
  },
  {
   "cell_type": "code",
   "execution_count": 120,
   "id": "5990f51a",
   "metadata": {},
   "outputs": [],
   "source": [
    "# note the / at the end!! no matter how long the folder path, it needs to end in / or shit breaks\n",
    "root = \"data/\""
   ]
  },
  {
   "cell_type": "markdown",
   "id": "6593842a",
   "metadata": {},
   "source": [
    "# 0. Universal Imports & Definitions\n",
    "Run the next two blocks before using any of the following tools. The second block defines the two main classes, and while you're welcome to read them, you don't need to! You'll mostly be making an instance of one or both models, and this notebook will explain how to call the various functions, as well as the info on what they do."
   ]
  },
  {
   "cell_type": "code",
   "execution_count": 121,
   "id": "9dc8f51a",
   "metadata": {},
   "outputs": [],
   "source": [
    "# imports and markovify-level class definitions\n",
    "\n",
    "import re\n",
    "import os\n",
    "import markovify\n",
    "import spacy\n",
    "nlp = spacy.load(\"en_core_web_sm\")\n",
    "\n",
    "# defines class that extends markovify model by incorporating part-of-speech tagging\n",
    "# note that using POSifiedText(string) over markovify.Text(string) will take a lot longer\n",
    "class POSifiedText(markovify.Text):\n",
    "    def word_split(self, sentence):\n",
    "        return [\"::\".join((word.orth_,word.pos_)) for word in nlp(sentence)]\n",
    "    \n",
    "    def word_join(self, words):\n",
    "        sentence = \" \".join(word.split(\"::\")[0] for word in words)\n",
    "        return sentence"
   ]
  },
  {
   "cell_type": "code",
   "execution_count": 122,
   "id": "8ed138ed",
   "metadata": {},
   "outputs": [],
   "source": [
    "# markov_modeling-specific class definitions\n",
    "# this defines the class that we will make an instance of to do our file and model management;\n",
    "# i recommend reading a function's description if you want to know what it is/how to use it\n",
    "class markovManager(dict):\n",
    "    def __init__(self, root_folder):\n",
    "        '''\n",
    "        Initializes an instance of markovManager given the root folder where data is stored, defined in File Manager.\n",
    "        Note that this runs directory_setup(), which means it will check for folders called \"txts/\" and \"jsons/\".\n",
    "        If these folders do not exist, it will create them. \n",
    "        These are where your .txt and markovify .jsons should be stored, and where jsons will be written out.\n",
    "        '''\n",
    "        self.root_folder = root_folder\n",
    "        # if you want to change where text files are read from, this is where you'll do it\n",
    "        self.txts_folder = self.root_folder+\"txts/\"\n",
    "        # if you want to change where json files are read from and saved to, this is where you'll do it\n",
    "        self.jsons_folder = self.root_folder+\"jsons/\"\n",
    "        self.folders = [self.root_folder, self.txts_folder, self.jsons_folder]\n",
    "        self.directory_setup(self.folders)\n",
    "        \n",
    "        # creates dictionary that maps filenames in txts folder (w/o extension) to contents from the associated files\n",
    "        self.txts = self.folder_to_dict(self.txts_folder)\n",
    "        # creates dictionary that maps filenames in jsons folder (w/o extension) to contents from the associated files\n",
    "        self.jsons = self.folder_to_dict(self.jsons_folder)\n",
    "        # creates dictionary that maps filenames in the jsons folder (w/o extension) to markovify model objects\n",
    "        self.models = {key:self.json_interpreter(self.jsons[key]) for key in self.jsons.keys()}\n",
    "        self.data = [self.txts, self.jsons, self.models]\n",
    "\n",
    "# NOTE: the next set of functions are ones you generally will *not* be calling\n",
    "    def directory_setup(self, folders):\n",
    "        '''\n",
    "        Checks the root_folder for subfolders called \"txts\" and \"jsons\"; if they do not exist, they will be created.\n",
    "        Note this runs upon initialization, but should not generally be called.\n",
    "        '''\n",
    "        for folder in folders:\n",
    "            if os.path.isdir(folder) == False:\n",
    "                path_out = (os.getcwd()+\"/\"+folder).replace(\"\\\\\", \"/\")\n",
    "                print(\"creating {}\".format(path_out))\n",
    "                os.mkdir(folder)\n",
    "    \n",
    "    def file_reader(self, path):\n",
    "        '''\n",
    "        Receives a string representing a filepath, and returns a string of that file's contents.\n",
    "        Note that you will generally not be running this function; it's used for other functions you will use.\n",
    "        '''\n",
    "        with open(path, 'r', errors=\"ignore\") as f:\n",
    "            content = f.read()\n",
    "        return content\n",
    "    \n",
    "    def json_interpreter(self, json):\n",
    "        '''\n",
    "        Receives a string of json representing a stored markovify model, and returns a markovify model object.\n",
    "        Note that it checks if the model represented by the json is POSified or just a regular markovify object.\n",
    "        Note that you will generally not be running this function; it's used for other functions you will use.\n",
    "        '''\n",
    "        if \"::\" in json:\n",
    "            model = POSifiedText.from_json(json)\n",
    "        else:\n",
    "            model = markovify.Text.from_json(json)\n",
    "        return model\n",
    "    \n",
    "    def folder_to_dict(self, folder):\n",
    "        '''\n",
    "        Receives a string representing a folder path, and returns a dictionary mapping file names in the folder\n",
    "        to a string of that file's contents.\n",
    "        Note that you will generally not be running this function; it's used for other functions you will use.\n",
    "        '''\n",
    "        files = dict()\n",
    "        filenames = os.listdir(folder)\n",
    "        for filename in filenames:\n",
    "            if \".\" in filename:\n",
    "                filename_noext, filename_ext = filename.rsplit(\".\")\n",
    "                content = self.file_reader(folder+filename)\n",
    "                files[filename_noext] = content\n",
    "        return files\n",
    "    \n",
    "# NOTE: the next set of functions are ones you *will* be calling\n",
    "    def update(self):\n",
    "        '''\n",
    "        Checks the txts and jsons folders for new files to import.\n",
    "        If the filename (w/o extension) is already in the self.txts or self.jsons dictionary,\n",
    "            then that file will be skipped.\n",
    "        Any new jsons will be automatically converted to a markov model and added to self.models.\n",
    "        '''\n",
    "        to_update = list()\n",
    "        for idx, folder in enumerate(self.folders[1:]):\n",
    "            to_update.append((folder, self.data[idx]))\n",
    "        for folder, dictionary in to_update:\n",
    "            filenames_u = os.listdir(folder)\n",
    "            filenames = []\n",
    "            for filename in filenames_u:\n",
    "                if \".\" in filename:\n",
    "                    filenames.append(filename)\n",
    "            for filename in filenames:\n",
    "                filename_noext, filename_ext = filename.rsplit(\".\")\n",
    "                if filename_noext not in dictionary.keys() and filename_ext == \"txt\":\n",
    "                     dictionary[filename_noext] = self.file_reader(folder+filename)\n",
    "                elif filename_noext not in dictionary.keys() and filename_ext == \"json\":\n",
    "                    dictionary[filename_noext] = self.file_reader(folder+filename)\n",
    "                    new_model = self.json_interpreter(dictionary[filename_noext])\n",
    "                    self.models[filename_noext] = new_model\n",
    "    \n",
    "    def make_model(self, name, string, pos=False, state_size=2):\n",
    "        '''\n",
    "        Receives a string for the name of the new model and a string to make a model from.\n",
    "        Creates a model and adds a pairing of the new name to the model to self.models.\n",
    "        Note that you can optionally create a POSified model or change the model's state size\n",
    "            by passing the optional parameters `pos=True` or `state_size=n` where n is a positive integer.\n",
    "        Note that this does NOT automatically export the model to self.jsons! You need to do that manually\n",
    "            using export().\n",
    "        '''\n",
    "        if pos == False:\n",
    "            model = markovify.Text(string, state_size=state_size)\n",
    "        elif pos == True:\n",
    "            model = POSifiedText(string, state_size=state_size)\n",
    "        self.models[name] = model\n",
    "        \n",
    "    def combine(self, name, model_names, weights=False):\n",
    "        '''\n",
    "        Receives a string for the name of the new model and a list of model names to combine.\n",
    "        Creates a new combined model and adds a pairing of the new name to the model to self.models.\n",
    "        Note that you can optionally weight how much each model contributes to the combined model\n",
    "            by passing the optional parameter `weights=[weight1, weight2, ..., weightN]` where \n",
    "            each weight is a positive number and N is the number of models being combined.\n",
    "            Not passing a weights parameter automatically sets each weight to 1.\n",
    "        Note that this does NOT automatically export the model to self.jsons! You need to do that manually\n",
    "            using export().        \n",
    "        '''\n",
    "        if weights == False:\n",
    "            weights = [1 for i in model_names]\n",
    "        models = list()\n",
    "        for model_name in model_names:\n",
    "            models.append(self.models[model_name])\n",
    "        model_combo = markovify.combine(models, weights)\n",
    "        self.models[name] = model_combo\n",
    "        \n",
    "    def export(self, model_name):\n",
    "        '''\n",
    "        Receives a string representing a model name in self.model.keys(), converts the model to json,\n",
    "            adds it to self.jsons, and then exports that json out to a file with the same name as the model.\n",
    "        Note that this will overwrite any files with the same name in the jsons folder.\n",
    "        The reason to make/use jsons is it's much faster than creating the model anew from a string.\n",
    "        '''\n",
    "        model = self.models[model_name]\n",
    "        model_json = model.to_json()\n",
    "        self.jsons[model_name] = model_json\n",
    "        with open(self.jsons_folder+model_name+\".json\",'w') as f:\n",
    "            f.write(model_json)\n",
    "    \n",
    "    def output(self, model_name):\n",
    "        '''\n",
    "        Receives a string representing a model name, generates a new sentence using that model, and then returns\n",
    "            a formatted string made from that sentence that fixes some awkward formatting issues.\n",
    "        Note that the replacements were largely determined by the files I was using, so you may need to adjust them.\n",
    "        '''\n",
    "        model = self.models[model_name]\n",
    "        sentence = model.make_sentence()\n",
    "        if sentence != None:\n",
    "            sentence = sentence.replace(\" ,\",\",\").replace(\" .\",\".\").replace(r'(?<=[^:]) \\.\\.\\.',\"...\")\\\n",
    "                .replace(\":...\",\": ...\").replace(\" ?\",\"?\").replace(\" !\",\"!\").replace(\" ;\",\";\")\\\n",
    "                .replace(\" :\",\":\").replace(\"  \",\" \").replace(\"   \",\"  \").replace(\"\\n\",\"\")\\\n",
    "                .replace(\" )\", \")\").replace(\"( \",\"(\").replace(\";;\",\";\").replace(\"::\",\":\")\n",
    "            try: \n",
    "                # fixes apostrophe errors for contractions, e.g. \"I 'm\" or \"do n't\"\n",
    "                patterns = [\"[A-Za-z]* '[a-z]\", \"[A-Za-z]* [a-z]'[a-z]\"]\n",
    "                for pattern in patterns:\n",
    "                    matches = re.findall(pattern, sentence)\n",
    "                    for match in matches:\n",
    "                        match_f = match.replace(\" \",\"\")\n",
    "                        sentence = sentence.replace(match, match_f)\n",
    "                # fixes apostrophe errors for questions and exclamations, e.g. \"Hi!It's\" or \"Yes?This\"\n",
    "                odd_pattern = \"[?!](?=[A-Z])\"\n",
    "                matches = re.findall(odd_pattern, sentence)\n",
    "                for match in matches:\n",
    "                    sentence = sentence.replace(match, match+\" \")\n",
    "                if sentence[-1] == \" \":\n",
    "                    sentence = sentence[0:-1]\n",
    "            except:\n",
    "                pass\n",
    "            return sentence\n",
    "        else:\n",
    "            return \"Sentence could not be generated for '{}', sorry. :( Try again!!\".format(model_name)\n",
    "        \n",
    "class stageManager(markovManager):\n",
    "    def __init__(self, root_folder, dupegroup_assocs):\n",
    "        '''\n",
    "        Initializes an instance of stageManager given the root folder where data is stored, defined in File Manager,\n",
    "            and the list of dupes/groups associations (see 2.0 for more info).\n",
    "        Note that this runs directory_setup(), which means it will check for folders called \"txts/\", \"jsons/\", \n",
    "            and \"txts/scripts/\", \n",
    "        If these folders do not exist, it will create them.\n",
    "        These are where your .txt and markovify .jsons should be stored, and where jsons will be written out.\n",
    "        '''\n",
    "        super(stageManager, self).__init__(root_folder)\n",
    "        self.scripts_folder = self.txts_folder+\"scripts/\"\n",
    "        self.folders.append(self.scripts_folder)\n",
    "        self.directory_setup(self.folders)\n",
    "        self.scripts = super(stageManager, self).folder_to_dict(self.scripts_folder)   \n",
    "        self.data.append(self.scripts)\n",
    "        def update(self):\n",
    "            super(stageManager, self).update()\n",
    "        self.dupegroups = dupegroup_assocs\n",
    "        for script in self.scripts:\n",
    "            dg = None\n",
    "            for dupegroup in self.dupegroups:\n",
    "                if script == dupegroup[0]:\n",
    "                    dg = dupegroup\n",
    "            if dg == None:\n",
    "                self.make_diamap(script)\n",
    "            else:\n",
    "                self.make_diamap(script, dupes=dg[1], groups=dg[2])\n",
    "            \n",
    "    def make_diamap(self, script, dupes=None, groups=None):\n",
    "        \"\"\"\n",
    "        Receives a script and associate it with a dialogue map in self.scripts.\n",
    "        A dialogue map is a dictionary that maps character names to a list of every instance of their dialogue.\n",
    "        Note that if there is a dupes dictionary or list of groups names (see 2.0 for more info), this is where\n",
    "            they come into play.\n",
    "        \"\"\"\n",
    "        dialogue_map = dict()\n",
    "        script_str = self.scripts[script]\n",
    "        sentences = script_str.split(\"\\n\")\n",
    "        for sentence in sentences:\n",
    "            try:\n",
    "                character, dialogue = sentence.split(\": \",1)\n",
    "                character = character.replace(\"\\\"\", \"\").replace(\"\\'\",\"\")\n",
    "                if character not in dialogue_map.keys():\n",
    "                    dialogue_map[character] = [dialogue]\n",
    "                else:\n",
    "                    dialogue_map[character].append(dialogue)\n",
    "            except:\n",
    "                pass\n",
    "\n",
    "        if dupes != None:\n",
    "            dialogue_map_f = dict()\n",
    "            for name in dialogue_map.keys():\n",
    "                if name not in dupes.values():\n",
    "                    dialogue_map_f[name] = dialogue_map[name]\n",
    "            for name_d in dupes.keys():\n",
    "                alias = dupes[name_d]\n",
    "                alias_dia = dialogue_map[alias]\n",
    "                dialogue_map_f[name_d].extend(alias_dia)\n",
    "        else: \n",
    "            dialogue_map_f = dialogue_map\n",
    "        scripts_update = (script_str, dialogue_map_f, groups)\n",
    "        self.scripts[script] = scripts_update\n",
    "    \n",
    "    def character_model(self, model_name, script, character, pos=False, state_size=2):\n",
    "        \"\"\"\n",
    "        Receives a name for a new model to be added to self.models, the name of the script to create a model from,\n",
    "            and the name of a character to build a model from.\n",
    "        Note that you can pass it the same optional arguments as you can when creating markovify models.\n",
    "        \"\"\"\n",
    "        out = \"\"\n",
    "        for i in self.scripts[script][1][character]:\n",
    "            out += i + \" \"\n",
    "        super(stageManager, self).make_model(model_name, out, pos=False, state_size=2)\n",
    "        \n",
    "    def group_model(self, model_name, script, group, pos=False, state_size=2):\n",
    "        \"\"\"\n",
    "        Receives a name for a new model to be added to self.models, the name of the script to create a model from,\n",
    "            and the name of a group (see 2.0 for more info) to build a model from.\n",
    "        Note that you can pass it the same optional arguments as you can when creating markovify models.\n",
    "        \"\"\"\n",
    "        out = \"\"\n",
    "        characters = self.scripts[script][2][group]\n",
    "        for character in characters:\n",
    "            for i in self.scripts[script][1][character]:\n",
    "                out += i + \" \"\n",
    "        super(stageManager, self).make_model(model_name, out, pos=False, state_size=2)\n",
    "    \n",
    "    def dialogue_model(self, model_name, script, pos=False, state_size=2):\n",
    "        \"\"\"\n",
    "        Receives a name for a new model to be added to self.models, and the name of the script to create a model from.\n",
    "        The model will include only the dialogue from the script, not the character tags.\n",
    "        Note that you can pass it the same optional arguments as you can when creating markovify models.\n",
    "        \"\"\"\n",
    "        out = \"\"\n",
    "        for character in self.scripts[script][1].keys():\n",
    "            for i in self.scripts[script][1][character]:\n",
    "                out += i + \" \"\n",
    "        super(stageManager, self).make_model(model_name, out, pos=False, state_size=2)\n",
    "        \n",
    "    def export(self, model_name):\n",
    "        '''\n",
    "        Receives a string representing a model name in self.model.keys(), converts the model to json,\n",
    "            adds it to self.jsons, and then exports that json out to a file with the same name as the model.\n",
    "        Note that this will overwrite any files with the same name in the jsons folder.\n",
    "        The reason to make/use jsons is it's much faster than creating the model anew from a string.\n",
    "        '''\n",
    "        return super(stageManager, self).export(model_name)\n",
    "        \n",
    "    def output(self, model_name):\n",
    "        '''\n",
    "        Receives a string representing a model name, generates a new sentence using that model, and then returns\n",
    "            a formatted string made from that sentence that fixes some awkward formatting issues.\n",
    "        Note that the replacements were largely determined by the files I was using, so you may need to adjust them.\n",
    "        '''\n",
    "        return super(stageManager, self).output(model_name)"
   ]
  },
  {
   "cell_type": "markdown",
   "id": "9204e3d8",
   "metadata": {},
   "source": [
    "# 1. marky the Markov Model Manager\n",
    "Manage text files, json files, and markovify models all in one place."
   ]
  },
  {
   "cell_type": "markdown",
   "id": "535add2b",
   "metadata": {},
   "source": [
    "### 1.0 marky Setup\n",
    "Run the next block first to set everything up.\n",
    "\n",
    "Here you're creating an instance of `markovManager` given the root folder you defined in File Manager at the top of the notebook.\n",
    "\n",
    "You CAN change the name, but just so you know the canonical name is `marky`.\n",
    "\n",
    "If you want to import text files or jsons, set up `txts/` and `jsons/` folders in the folder you defined as root,\n",
    "    and then add files to them before running this block. You can add stuff later, though."
   ]
  },
  {
   "cell_type": "code",
   "execution_count": 123,
   "id": "d3d1dcc4",
   "metadata": {},
   "outputs": [],
   "source": [
    "marky = markovManager(root)"
   ]
  },
  {
   "cell_type": "markdown",
   "id": "e4ba9d18",
   "metadata": {},
   "source": [
    "### 1.a marky Examples\n",
    "\n",
    "What follows are examples and explainers of how to use marky."
   ]
  },
  {
   "cell_type": "markdown",
   "id": "708393fc",
   "metadata": {},
   "source": [
    "#### Things marky Has\n",
    "The main \"things\" marky has that you'll be using are three dictionaries. If you're unsure how to make use of dictionaries, I'd read through this resource: https://www.w3schools.com/python/python_dictionaries.asp\n",
    "\n",
    "The dictionaries are:\n",
    "1. `marky.txts`: maps names of strings to their contents\n",
    "2. `marky.models`: maps names of models to a model\n",
    "3. `marky.jsons`: maps names of jsons to json version of markify models"
   ]
  },
  {
   "cell_type": "code",
   "execution_count": 124,
   "id": "cc5586c8",
   "metadata": {},
   "outputs": [
    {
     "name": "stdout",
     "output_type": "stream",
     "text": [
      "txts in marky:  dict_keys(['mystery', 'scifi'])\n",
      "models in marky:  dict_keys(['emma-scifi', 'emma', 'mystery', 'scifi'])\n",
      "jsons in marky:  dict_keys(['emma-scifi', 'emma', 'mystery', 'scifi'])\n",
      "\n",
      "txt contents\n",
      "-------\n",
      "mystery:  There were thirty-eight patients on the bus the morning I left for Hanover, most of them disturbed a\n",
      "scifi:  Now that he knew himself to be self he was free to grok ever closer to his brothers, merge without l\n",
      "\n",
      "models\n",
      "-------\n",
      "emma-scifi:  <markovify.text.Text object at 0x0000020BC741AF40>\n",
      "emma:  <markovify.text.Text object at 0x0000020BC739BC70>\n",
      "mystery:  <markovify.text.Text object at 0x0000020BC739BF70>\n",
      "scifi:  <markovify.text.Text object at 0x0000020BC739BD00>\n"
     ]
    }
   ],
   "source": [
    "print(\"txts in marky: \", marky.txts.keys())\n",
    "print(\"models in marky: \", marky.models.keys())\n",
    "print(\"jsons in marky: \", marky.jsons.keys())\n",
    "\n",
    "print(\"\\ntxt contents\\n-------\")\n",
    "for key in marky.txts.keys():\n",
    "    print(key+\": \", marky.txts[key][0:100])\n",
    "\n",
    "print(\"\\nmodels\\n-------\")\n",
    "for key in marky.models.keys():\n",
    "    print(key+\": \", marky.models[key])"
   ]
  },
  {
   "cell_type": "code",
   "execution_count": 125,
   "id": "d2478bab",
   "metadata": {},
   "outputs": [
    {
     "name": "stdout",
     "output_type": "stream",
     "text": [
      "emma-scifi:  And, as Hal found out, obviously mistaken in many respects, the very last times we ever recollect half the way.\n",
      "emma:  He had still a small independence, had become indisposed for any woman of strong understanding or knowledge of their absence to Highbury; to spend, perhaps, her last months of perfect liberty with you.\n",
      "mystery:  For over the washbowl and then bent to examine the scene, there was anything he could do something about how terrible it was, remained in my unpadded pad, killing what had happened.\n",
      "scifi:  Shell people were encouraged to develop a hobby so long as they need him, we can't touch him.\n"
     ]
    }
   ],
   "source": [
    "for key in marky.models.keys():\n",
    "    print(key+\": \", marky.output(key))"
   ]
  },
  {
   "cell_type": "markdown",
   "id": "2488b730",
   "metadata": {},
   "source": [
    "#### Things marky Does\n",
    "The main functions you'll be using are:\n",
    "1. `marky.update()`\n",
    "2. `marky.make_model(new_name, string, pos=False, state_size=2)`\n",
    "3. `marky.combine(new_name, model_names, weights=False)`\n",
    "4. `marky.export(model_name)`\n",
    "5. `marky.output(model_name)`\n",
    "\n",
    "If you want to learn about what a function does or how to use it, simply type `help(marky.NAME)`, where `NAME` is the function you want to learn more about. See example below."
   ]
  },
  {
   "cell_type": "code",
   "execution_count": 126,
   "id": "ac6a03eb",
   "metadata": {},
   "outputs": [
    {
     "name": "stdout",
     "output_type": "stream",
     "text": [
      "Help on method update in module __main__:\n",
      "\n",
      "update() method of __main__.markovManager instance\n",
      "    Checks the txts and jsons folders for new files to import.\n",
      "    If the filename (w/o extension) is already in the self.txts or self.jsons dictionary,\n",
      "        then that file will be skipped.\n",
      "    Any new jsons will be automatically converted to a markov model and added to self.models.\n",
      "\n"
     ]
    }
   ],
   "source": [
    "help(marky.update)"
   ]
  },
  {
   "cell_type": "markdown",
   "id": "7389950d",
   "metadata": {},
   "source": [
    "#### marky Demo\n",
    "Below is an example of how I might use marky, keeping in mind I locally have `txts\\mystery.txt`, `txts\\scifi.txt`, and `jsons\\emma.json`."
   ]
  },
  {
   "cell_type": "code",
   "execution_count": 127,
   "id": "266f944a",
   "metadata": {},
   "outputs": [],
   "source": [
    "# take all current txts in marky.txts, turn them into models, and then export the models to the jsons folder\n",
    "for key in marky.txts.keys():\n",
    "    marky.make_model(key, marky.txts[key])\n",
    "    marky.export(key)"
   ]
  },
  {
   "cell_type": "code",
   "execution_count": 128,
   "id": "fa42dceb",
   "metadata": {},
   "outputs": [
    {
     "data": {
      "text/plain": [
       "'They now walked after her father; but she could not understand how the principle could ever be codified.'"
      ]
     },
     "execution_count": 128,
     "metadata": {},
     "output_type": "execute_result"
    }
   ],
   "source": [
    "# combine two models and generate a test sentence\n",
    "marky.combine(\"emma-scifi\", [\"emma\", \"scifi\"], weights=[1, 10])\n",
    "marky.output(\"emma-scifi\")"
   ]
  },
  {
   "cell_type": "code",
   "execution_count": 129,
   "id": "3159fe3d",
   "metadata": {},
   "outputs": [
    {
     "name": "stdout",
     "output_type": "stream",
     "text": [
      "Consequently no one knew what was good for him.\n",
      "\n",
      "In a camp, instead of the time of day when, from some already established premise.\n",
      "\n",
      "The dromozoa kept him alive, but he did not come out of a parent, it suits my ideas of comfort better than sweetbread and some censure I acknowledge myself liable to.-- My behaviour to Miss Bates; she is so calculated to affect one!-- Miss Woodhouse, is he like to have him sitting just opposite each other.\n",
      "\n",
      "She was bewildered amidst the confusion of the inwardness of pain.\n",
      "\n",
      "Exactly so, indeed -- I have seen through such thick - headed nonsense?\n",
      "\n"
     ]
    }
   ],
   "source": [
    "# note that once you've made a new model with make_model or combine, you can just call for output\n",
    "# the for loop makes it so it prints 5 different outputs\n",
    "for i in range(5):\n",
    "    print(marky.output(\"emma-scifi\")+\"\\n\")"
   ]
  },
  {
   "cell_type": "code",
   "execution_count": 130,
   "id": "ac11079c",
   "metadata": {},
   "outputs": [],
   "source": [
    "# if i like my new model, i can export it\n",
    "marky.export(\"emma-scifi\")"
   ]
  },
  {
   "cell_type": "markdown",
   "id": "dcefadf6",
   "metadata": {},
   "source": [
    "### 1.b marky Playground\n",
    "Explore marky's functions!"
   ]
  },
  {
   "cell_type": "code",
   "execution_count": null,
   "id": "85f39d1b",
   "metadata": {},
   "outputs": [],
   "source": [
    "# have funnn\n"
   ]
  },
  {
   "cell_type": "markdown",
   "id": "7d9bed70",
   "metadata": {},
   "source": [
    "# 2. nern the Stage Manager\n",
    "Manage text files, json files, and markovify models all in one place, including formatted scripts. (See `Info` block for more details.) **I would tinker around with marky before using nern**, personally, as nern is kind of an extended version of marky that lets you do stuff with texts that are scripts formatted in a certain way."
   ]
  },
  {
   "cell_type": "markdown",
   "id": "7c666070",
   "metadata": {},
   "source": [
    "### 2.0 nern Setup\n",
    "\n",
    "The next block is for defining any duplicate names in your script (e.g. if the same character appears as both \"Mysterious Man\" and \"Theodore Logan\" at different points in the script), and setting up groupings of characters. These can be passed to nern when you create a dialogue map for a script, where you'll be able to create strings/models given a character name or group name for sets of characters defined below. If you only want to make models based on individual characters or the full script without character tags, you don't need to worry about dupes or groups very much.\n",
    "\n",
    "Any names in `dupes` will be fixed before making the dialogue map that nern leverages for making strings based on the script. In `dupes`, you should add the name that you want to fix using the format `\"Correct Name\": \"Name to Replace\"`. See an example `dupes` dictionary below, where \"Artemy Burakh\" is replaced by \"Haruspex\", \"Clara\" is replaced by \"Changeling\", etc. So, when making the dialogue map, any instance of \"Artemy Burakh: \" would be replaced by \"Haruspex: \". If you think your names are consistent, you can just set the relevant `dupes` dictionary to `None` (no quotes).\n",
    "\n",
    "`groups` is a dictionary, mapping a group name to a list of character names. Assuming all the character names exist in the script, you can then use a group name to generate a string of all the dialogue for characters in that group. Then, you can turn this into a markovify model that will generate sentences based on all the characters represented in that group. See the blocks in section 2.a on specific functions for nern to learn more about how to leverage this tool.\n",
    "\n",
    "Note that you have to define dupes and groups, run the block, and then pass the `script_associations` list as a parameter/variable when creating nern. Eventually, I will have it so you can add these things in later, as right now you have to start over if you add a new script into your scripts folder given new dupes and groups, rather than more seamlessly updating everything. I'm just one woman!!"
   ]
  },
  {
   "cell_type": "code",
   "execution_count": 131,
   "id": "71e57c9d",
   "metadata": {},
   "outputs": [],
   "source": [
    "# dupes dictionaries go here\n",
    "patho_dupes = {\n",
    "    \"Haruspex\": \"Artemy Burakh\",\n",
    "    \"Changeling\": \"Clara\",\n",
    "    \"Inquisitor\": \"Aglaya Lilich\",\n",
    "    \"Commander\": \"Alexander Block\",\n",
    "    \"Young Vlad\": \"Vlad the Younger\",\n",
    "    \"Big Vlad\": \"Vlad Olgimsky\",\n",
    "    \"Fellow Traveller\": \"Fellow Traveler\",\n",
    "    \"Stanislav Rubin\": \"Stakh Rubin\",\n",
    "    \"The Foreman of the Abattoir\": \"Foreman Oyun\",\n",
    "    \"Hunchback\": \"Var\"\n",
    "        }\n",
    "\n",
    "new_dupes = {\n",
    "    \"Correct Name 1\": \"Name to Replace 1\",\n",
    "    \"Correct Name 2\": \"Name to Replace 2\"\n",
    "}\n",
    "\n",
    "# groups dictionaries go here\n",
    "patho_groups = {\n",
    "\"utopians\": [\"Bachelor\", \"Andrey Stamatin\", \"Eva Yan\", \"Georgiy Kain\", \"Mark Immortell\", \"Maria Kaina\", \"Peter Stamatin\", \"Victor Kain\", \"Young Vlad\"],\n",
    "\"termites\": [\"Haruspex\", \"Capella\", \"Grace\", \"Khan\", \"Murky\", \"Notkin\", \"Sticky\", \"Taya Tycheek\"],\n",
    "\"humbles\": [\"Changeling\", \"Alexander Saburov\", \"Anna Angel\", \"Aspity\", \"Bad Grief\", \"Katerina Saburova\", \"Lara Ravel\", \"The Foreman of the Abattoir\", \"Stanislav Rubin\", \"Yulia Lyuricheva\"],\n",
    "\"major\": [\"Inquisitor\", \"Commander\", \"Big Vlad\"],\n",
    "\"theater\": [\"Executor\", \"Tragedian\", \"Rat Prophet\", \"Player\", \"Fellow Traveller\"],\n",
    "\"kin\": [\"Worm\", \"Butcher\", \"Albino\", \"Ayan\", \"Dancer Girl\", \"Herb Bride\", \"Kin One\", \"Pack\", \"Nara\", \"Tumbler Human\", \"Wonder Bull\"],\n",
    "\"minor\": [\"Hunchback\", \"Willow\", \"Barley\", \"Isidor Burakh\"],\n",
    "\"generic_kid\": [\"Doghead\", \"Tot\", \"Boy\", \"Girl\", \"Teensy\", \"Troublemaker\"],\n",
    "\"generic_adult\": [\"Factory Worker\", \"Woman\", \"Patrolman\", \"Young Man\", \"Young Lady\", \"Carouser\", \"Man\", \"Officer\", \"Sickly Man\", \"Mugger\", \"Corpsman\", \"Salesman\", \"Soldier\", \"Survivor\", \"Gravedigger\"]\n",
    "}\n",
    "\n",
    "new_groups = {\n",
    "    \"group1\": [\"Name A\", \"Name B\"],\n",
    "    \"group2\": [\"Name C\", \"Name D\"]\n",
    "}\n",
    "\n",
    "# create variables for each script in your scripts folder, relating the filename (without extension) to\n",
    "# the dupes and groups dictionaries\n",
    "script_associations = [\n",
    "    (\"pathologic\", patho_dupes, patho_groups),\n",
    "    (\"new\", new_dupes, new_groups)\n",
    "]"
   ]
  },
  {
   "cell_type": "markdown",
   "id": "5ac6614f",
   "metadata": {},
   "source": [
    "Run the next block to create an instance of `stageManager` given the root folder you defined in File Manager at the top of the notebook, and the list of tuples associating file names to lists of dupes and groups. (See markdown block above for more info.)\n",
    "\n",
    "You CAN change the name, but just so you know the canonical name is `nern`. \n",
    "\n",
    "If you want to import text files or jsons, set up `txts/`, `jsons/`, and `scripts/` folders in the folder you defined as root, and then add files to them before running this block. You can add stuff later, though."
   ]
  },
  {
   "cell_type": "code",
   "execution_count": 132,
   "id": "c03fcc0d",
   "metadata": {},
   "outputs": [],
   "source": [
    "nern = stageManager(root, script_associations)"
   ]
  },
  {
   "cell_type": "markdown",
   "id": "58b5c119",
   "metadata": {},
   "source": [
    "### 2.a nern Examples\n",
    "What follows are examples and explainers of how to use nern."
   ]
  },
  {
   "cell_type": "markdown",
   "id": "94373e44",
   "metadata": {},
   "source": [
    "#### Things nern Has\n",
    "The main \"things\" nern has are the same dictionaries as marky (so you can call `nern.models` or `nern.jsons`), but our main string dictionary will be `self.scripts` instead of `self.texts`. The new dictionary is a more detailed version of `self.texts`, which mapped names of texts to their contents. By contrast, `self.scripts` maps names to a tuple of the form:\n",
    "\n",
    "`(script_contents, dialogue_map, groups)`\n",
    "\n",
    "The dialogue map is a dictionary, mapping character names to a list of every line of dialogue they have in the script. (Note that `dupes` helps ensure there aren't duplicates in this dictionary.) The groups, taken from those defined in section 2.0, allow you to generate strings/markovify models for entire groups of characters. You have to predefine these because the computer doesn't know what the character names mean, or their relationships. The groupings are significant to you, not the computer.\n",
    "\n",
    "For what it's worth, you won't be calling this tuple, so don't worry too much about the structure of `nern.scripts`. You'll pretty much never be calling it directly unless you're trying to poke around (which, y'know, feel free). You'll mostly be using a few functions for making models based on the names of scripts in your `txts\\scripts\\` folder, and otherwise using it very similarly to how you'd use marky."
   ]
  },
  {
   "cell_type": "code",
   "execution_count": 133,
   "id": "d58426e6",
   "metadata": {},
   "outputs": [
    {
     "name": "stdout",
     "output_type": "stream",
     "text": [
      "txts in nern:  dict_keys(['mystery', 'scifi'])\n",
      "scripts in nern:  dict_keys(['pathologic'])\n"
     ]
    }
   ],
   "source": [
    "print(\"txts in nern: \", nern.txts.keys())\n",
    "print(\"scripts in nern: \", nern.scripts.keys())"
   ]
  },
  {
   "cell_type": "markdown",
   "id": "76d068af",
   "metadata": {},
   "source": [
    "#### Things nern Does\n",
    "The main functions you'll be using are:\n",
    "1. `nern.character_model(model_name, script, character, pos=False, state_size=2)`\n",
    "2. `nern.group_model(model_name, script, group, pos=False, state_size=2)`\n",
    "3. `nern.dialogue_model(model_name, script)`\n",
    "4. `nern.export(model_name)`\n",
    "5. `nern.output(model_name)`\n",
    "\n",
    "If you want to learn about what a function does or how to use it, simply type `help(nern.NAME)`, where `NAME` is the function you want to learn more about. See example below."
   ]
  },
  {
   "cell_type": "code",
   "execution_count": 134,
   "id": "95820191",
   "metadata": {},
   "outputs": [
    {
     "name": "stdout",
     "output_type": "stream",
     "text": [
      "Help on method character_model in module __main__:\n",
      "\n",
      "character_model(model_name, script, character, pos=False, state_size=2) method of __main__.stageManager instance\n",
      "    Receives a name for a new model to be added to self.models, the name of the script to create a model from,\n",
      "        and the name of a character to build a model from.\n",
      "    Note that you can pass it the same optional arguments as you can when creating markovify models.\n",
      "\n"
     ]
    }
   ],
   "source": [
    "help(nern.character_model)"
   ]
  },
  {
   "cell_type": "markdown",
   "id": "7cd95543",
   "metadata": {},
   "source": [
    "#### nern Demo\n",
    "Below is an example of how I might use nern, keeping in mind I locally have `txts\\scripts\\pathologic.txt` saved locally."
   ]
  },
  {
   "cell_type": "code",
   "execution_count": 135,
   "id": "21968f1f",
   "metadata": {},
   "outputs": [],
   "source": [
    "# creates models called \"utopians\" and \"kiddos\" in nern.models for the pre-defined groups\n",
    "# \"utopians\" and \"generic_kid\" from the pathologic script\n",
    "nern.group_model(\"utopians\", \"pathologic\", \"utopians\")\n",
    "nern.group_model(\"kiddos\", \"pathologic\", \"generic_kid\")\n",
    "\n",
    "# creates a model called \"grief\" in nern.models for the character \"Bad Grief\" from the \"pathologic\" script\n",
    "nern.character_model(\"grief\",\"pathologic\",\"Bad Grief\")\n",
    "\n",
    "#creates a model called \"patho_dia\" in nern.models for dialogue in the \"pathologic\" script\n",
    "nern.dialogue_model(\"patho_dia\", \"pathologic\")"
   ]
  },
  {
   "cell_type": "code",
   "execution_count": 136,
   "id": "bebc4f16",
   "metadata": {},
   "outputs": [
    {
     "name": "stdout",
     "output_type": "stream",
     "text": [
      "Utopians:  They barely know how to take care of it.\n",
      "Bad Grief:  The designers of the Warehouses, just you get my name, anyway?\n",
      "Pathologic Dialogue:  And what about the... shmowders?\n",
      "Science Fiction:  Yet, if he did not change.\n",
      "Kid Characters:  They actually could give us your blessings and kisses...\n"
     ]
    }
   ],
   "source": [
    "# printing output for the models made above\n",
    "print(\"Utopians: \", nern.output(\"utopians\"))\n",
    "print(\"Bad Grief: \", nern.output(\"grief\"))\n",
    "print(\"Pathologic Dialogue: \", nern.output(\"patho_dia\"))\n",
    "print(\"Science Fiction: \", nern.output(\"scifi\"))\n",
    "print(\"Kid Characters: \", nern.output(\"kiddos\"))"
   ]
  },
  {
   "cell_type": "markdown",
   "id": "5f47c2bd",
   "metadata": {},
   "source": [
    "### 2.b nern Playground\n",
    "\n",
    "Explore nern's functions!"
   ]
  },
  {
   "cell_type": "code",
   "execution_count": null,
   "id": "ea981174",
   "metadata": {},
   "outputs": [],
   "source": [
    "# have funnn\n"
   ]
  }
 ],
 "metadata": {
  "kernelspec": {
   "display_name": "Python 3",
   "language": "python",
   "name": "python3"
  },
  "language_info": {
   "codemirror_mode": {
    "name": "ipython",
    "version": 3
   },
   "file_extension": ".py",
   "mimetype": "text/x-python",
   "name": "python",
   "nbconvert_exporter": "python",
   "pygments_lexer": "ipython3",
   "version": "3.8.8"
  }
 },
 "nbformat": 4,
 "nbformat_minor": 5
}
